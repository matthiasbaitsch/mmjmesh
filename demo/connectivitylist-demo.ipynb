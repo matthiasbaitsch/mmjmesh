{
  "cells": [
    {
      "cell_type": "raw",
      "metadata": {},
      "source": [
        "---\n",
        "title: \"Demo for connectivity list\"\n",
        "---"
      ],
      "id": "e42e0e4d"
    },
    {
      "cell_type": "code",
      "metadata": {},
      "source": [
        "using Pkg\n",
        "Pkg.activate(\".\")\n",
        "using MMJMesh.Topologies"
      ],
      "id": "33a49f68",
      "execution_count": null,
      "outputs": []
    },
    {
      "cell_type": "markdown",
      "metadata": {},
      "source": [
        "# Basic usage\n",
        "\n",
        "Construct and add element\n"
      ],
      "id": "c716a955"
    },
    {
      "cell_type": "code",
      "metadata": {},
      "source": [
        "    cl = ConnectivityList([[4, 1, 9], [1, 4], [9, 8]])\n",
        "\n",
        "    println(\"Step 1\\n\", cl)\n",
        "    push!(cl, [9, 1, 11])\n",
        "    println(\"Step 2\\n\", cl)"
      ],
      "id": "eca53ed9",
      "execution_count": null,
      "outputs": []
    },
    {
      "cell_type": "markdown",
      "metadata": {},
      "source": [
        "Transpose\n"
      ],
      "id": "d0287d9f"
    },
    {
      "cell_type": "code",
      "metadata": {},
      "source": [
        "print(cl')"
      ],
      "id": "a66a0cdb",
      "execution_count": null,
      "outputs": []
    },
    {
      "cell_type": "markdown",
      "metadata": {},
      "source": [
        "Inverse\n"
      ],
      "id": "83f02360"
    },
    {
      "cell_type": "code",
      "metadata": {},
      "source": [
        "display(inverse(cl))"
      ],
      "id": "48f5c937",
      "execution_count": null,
      "outputs": []
    }
  ],
  "metadata": {
    "kernelspec": {
      "name": "julia-1.6",
      "language": "julia",
      "display_name": "Julia 1.6.7"
    }
  },
  "nbformat": 4,
  "nbformat_minor": 5
}