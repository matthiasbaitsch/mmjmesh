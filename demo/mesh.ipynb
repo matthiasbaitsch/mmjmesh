{
  "cells": [
    {
      "cell_type": "markdown",
      "metadata": {},
      "source": [
        "# The Mesh interface\n"
      ],
      "id": "93abe947"
    },
    {
      "cell_type": "code",
      "metadata": {},
      "source": [
        "#| echo: false\n",
        "include(\"setup.jl\")"
      ],
      "id": "33c9b423",
      "execution_count": null,
      "outputs": []
    },
    {
      "cell_type": "markdown",
      "metadata": {},
      "source": [
        "Create mesh\n"
      ],
      "id": "772a56ee"
    },
    {
      "cell_type": "code",
      "metadata": {},
      "source": [
        "coords = [0.0 1.0 2.0 0.1 0.9 1.9; 0.0 0.1 0.0 0.9 1.0 0.9]\n",
        "elts = [[1, 2, 5, 4], [2, 3, 6], [2, 6, 5]]\n",
        "m = Mesh(coords, elts, 2)\n",
        "\n",
        "plot(m)"
      ],
      "id": "db914cf9",
      "execution_count": null,
      "outputs": []
    },
    {
      "cell_type": "markdown",
      "metadata": {},
      "source": [
        "Coordinates of a node\n"
      ],
      "id": "89def4c7"
    },
    {
      "cell_type": "code",
      "metadata": {},
      "source": [
        "coordinates(node(m, 2))"
      ],
      "id": "82bb04c4",
      "execution_count": null,
      "outputs": []
    },
    {
      "cell_type": "markdown",
      "metadata": {},
      "source": [
        "Coordinates of a face\n"
      ],
      "id": "c6537c8b"
    },
    {
      "cell_type": "code",
      "metadata": {},
      "source": [
        "coordinates(face(m, 3))"
      ],
      "id": "b63df124",
      "execution_count": null,
      "outputs": []
    },
    {
      "cell_type": "markdown",
      "metadata": {},
      "source": [
        "Process faces and print node and edge indexes\n"
      ],
      "id": "9e962d1c"
    },
    {
      "cell_type": "code",
      "metadata": {},
      "source": [
        "for e ∈ elements(m)\n",
        "    println(e)\n",
        "    println(\"- \", nodeIdxs(e))\n",
        "    println(\"- \", edgeIdxs(e))\n",
        "    println(\"- \", faceIdxs(e))\n",
        "end"
      ],
      "id": "4ad090e0",
      "execution_count": null,
      "outputs": []
    }
  ],
  "metadata": {
    "kernelspec": {
      "name": "julia-1.9",
      "language": "julia",
      "display_name": "Julia 1.9.3"
    }
  },
  "nbformat": 4,
  "nbformat_minor": 5
}