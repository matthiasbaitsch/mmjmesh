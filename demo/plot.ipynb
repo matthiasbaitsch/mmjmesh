{
  "cells": [
    {
      "cell_type": "markdown",
      "metadata": {},
      "source": [
        "# Plotting\n",
        "\n",
        "This chapter is utterly incomplete and probably not worth reading.\n"
      ],
      "id": "17ea4e9c"
    },
    {
      "cell_type": "code",
      "metadata": {},
      "source": [
        "#| echo: false\n",
        "#| warning: false\n",
        "include(\"setup.jl\")\n",
        "import MMJMesh.Plots: approximationerror, sampleadaptive"
      ],
      "id": "087b84b1",
      "execution_count": null,
      "outputs": []
    },
    {
      "cell_type": "markdown",
      "metadata": {},
      "source": [
        "## Plot a 1D mesh\n",
        "\n",
        "### On a straight line\n"
      ],
      "id": "4b8b9efd"
    },
    {
      "cell_type": "code",
      "metadata": {},
      "source": [
        "m = makemeshoninterval(0, 4, 20)\n",
        "mplot(m, nodecolor=:green) |> mconf()"
      ],
      "id": "16d60fa0",
      "execution_count": null,
      "outputs": []
    },
    {
      "cell_type": "markdown",
      "metadata": {},
      "source": [
        "One value per node\n"
      ],
      "id": "9c5e246a"
    },
    {
      "cell_type": "code",
      "metadata": {},
      "source": [
        "mplot(m, -1.1 .+ 2.6 * rand(nentities(m.topology, 0))) |> mconf()"
      ],
      "id": "c88d6c70",
      "execution_count": null,
      "outputs": []
    },
    {
      "cell_type": "markdown",
      "metadata": {},
      "source": [
        "One value per element\n"
      ],
      "id": "cd36c0dc"
    },
    {
      "cell_type": "code",
      "metadata": {},
      "source": [
        "mplot(m, -1.1 .+ 2.2 * rand(nedges(m))) |> mconf()"
      ],
      "id": "51a2204a",
      "execution_count": null,
      "outputs": []
    },
    {
      "cell_type": "markdown",
      "metadata": {},
      "source": [
        "Two values per element\n"
      ],
      "id": "d719b376"
    },
    {
      "cell_type": "code",
      "metadata": {},
      "source": [
        "mplot(m, -1.1 .+ 2.2 * rand(2, nedges(m))) |> mconf()"
      ],
      "id": "6931cd11",
      "execution_count": null,
      "outputs": []
    },
    {
      "cell_type": "markdown",
      "metadata": {},
      "source": [
        "### Vertical\n"
      ],
      "id": "d83583d2"
    },
    {
      "cell_type": "code",
      "metadata": {},
      "source": [
        "m = makemeshoninterval(π, 3π, 20, t -> [0; t])\n",
        "mplot(m, -1.1 .+ 3.2 * rand(nedges(m))) |> mconf()"
      ],
      "id": "ae4f1951",
      "execution_count": null,
      "outputs": []
    },
    {
      "cell_type": "markdown",
      "metadata": {},
      "source": [
        "### On a spiral\n"
      ],
      "id": "8db5600f"
    },
    {
      "cell_type": "code",
      "metadata": {},
      "source": [
        "m = makemeshoninterval(π, 3π, 20, t -> t * [cos(t); sin(t)])\n",
        "mplot(m, -1.1 .+ 3.2 * rand(2, nedges(m))) |> mconf()"
      ],
      "id": "0305fcc2",
      "execution_count": null,
      "outputs": []
    },
    {
      "cell_type": "markdown",
      "metadata": {},
      "source": [
        "### Customize plot\n",
        "\n",
        "Plot customization works like this:\n"
      ],
      "id": "dca0ecea"
    },
    {
      "cell_type": "code",
      "metadata": {},
      "source": [
        "f, ax = mplot(m, -1.1 .+ 3.2 * rand(2, nedges(m))) |> mconf()\n",
        "ax.title = \"Spiral with reversed vertical axis\"\n",
        "ax.yreversed = true\n",
        "f"
      ],
      "id": "778ecd73",
      "execution_count": null,
      "outputs": []
    },
    {
      "cell_type": "markdown",
      "metadata": {},
      "source": [
        "Documentation on plot axis can be found on the [Makie documentation](https://docs.makie.org/stable/reference/blocks/axis) which unfortunately is quite hard to read.\n",
        "\n",
        "## Plot a 2D mesh\n",
        "\n",
        "### Quad mesh\n"
      ],
      "id": "4a2bc63a"
    },
    {
      "cell_type": "code",
      "metadata": {},
      "source": [
        "a = 80\n",
        "m = makemeshonrectangle(9.0, 4.5, 2a, a)\n",
        "println(\"Number of nodes is Nn = \", (a + 1) * (2a + 1))\n",
        "print(\"Links...\")\n",
        "@time l12 = links(m.topology, 1, 2);"
      ],
      "id": "b0e912e5",
      "execution_count": null,
      "outputs": []
    },
    {
      "cell_type": "markdown",
      "metadata": {},
      "source": [
        "Default color\n"
      ],
      "id": "6abee82a"
    },
    {
      "cell_type": "code",
      "metadata": {},
      "source": [
        "mplot(m, edgesvisible=true, edgecolor=:hotpink) |> mconf()"
      ],
      "id": "79f818e0",
      "execution_count": null,
      "outputs": []
    },
    {
      "cell_type": "markdown",
      "metadata": {},
      "source": [
        "Colors for nodes\n"
      ],
      "id": "68f14d59"
    },
    {
      "cell_type": "code",
      "metadata": {},
      "source": [
        "mplot(m, 4.1 * (rand(nentities(m.topology, 0)) .- 0.25)) |> mconf()"
      ],
      "id": "479a096c",
      "execution_count": null,
      "outputs": []
    },
    {
      "cell_type": "markdown",
      "metadata": {},
      "source": [
        "Colors for elements\n"
      ],
      "id": "dac21b46"
    },
    {
      "cell_type": "code",
      "metadata": {},
      "source": [
        "mplot(m, 4.1 * (rand(nentities(m.topology, 2)) .- 0.25)) |> mconf()"
      ],
      "id": "7f51adef",
      "execution_count": null,
      "outputs": []
    },
    {
      "cell_type": "markdown",
      "metadata": {},
      "source": [
        "### Triangle mesh\n"
      ],
      "id": "39edd188"
    },
    {
      "cell_type": "code",
      "metadata": {},
      "source": [
        "a = 20\n",
        "m = makemeshonrectangle(9.0, 4.5, 2a, a, TRIANGLE)\n",
        "println(\"Nn = \", (a + 1) * (2a + 1))\n",
        "print(\"Links (1, 2):\")\n",
        "@time l12 = links(m.topology, 1, 2);"
      ],
      "id": "3f57cd40",
      "execution_count": null,
      "outputs": []
    },
    {
      "cell_type": "markdown",
      "metadata": {},
      "source": [
        "Default color\n"
      ],
      "id": "a88f7cdb"
    },
    {
      "cell_type": "code",
      "metadata": {},
      "source": [
        "mplot(m, edgesvisible=true) |> mconf()"
      ],
      "id": "e6e976f2",
      "execution_count": null,
      "outputs": []
    },
    {
      "cell_type": "markdown",
      "metadata": {},
      "source": [
        "Colors for nodes\n"
      ],
      "id": "a76d8670"
    },
    {
      "cell_type": "code",
      "metadata": {},
      "source": [
        "mplot(m, 4.1 * (rand(nentities(m.topology, 0)) .- 0.25)) |> mconf()"
      ],
      "id": "d8135293",
      "execution_count": null,
      "outputs": []
    },
    {
      "cell_type": "markdown",
      "metadata": {},
      "source": [
        "Colors for elements\n"
      ],
      "id": "f4558736"
    },
    {
      "cell_type": "code",
      "metadata": {},
      "source": [
        "mplot(m, 4.1 * (rand(nentities(m.topology, 2)) .- 0.25)) |> mconf()"
      ],
      "id": "04e6f1cc",
      "execution_count": null,
      "outputs": []
    },
    {
      "cell_type": "code",
      "metadata": {},
      "source": [
        "m = makemeshoninterval(π, 3π, 20, t -> t * [cos(t); sin(t)])\n",
        "with_theme(theme_dark()) do\n",
        "#update_theme!(linecolor=:tomato)\n",
        "#update_theme!(markercolor=:tomato)\n",
        "\n",
        "println(theme(:linecolor)[])\n",
        "\n",
        "#mplot(m)\n",
        "scatter(coordinates(m))\n",
        "end"
      ],
      "id": "a74253ad",
      "execution_count": null,
      "outputs": []
    },
    {
      "cell_type": "markdown",
      "metadata": {},
      "source": [
        "## Plot options\n"
      ],
      "id": "dbe6c639"
    },
    {
      "cell_type": "code",
      "metadata": {},
      "source": [
        "a = 10\n",
        "m1 = makemeshonrectangle(4, 2, 2a, a)\n",
        "mplot(m1, 3 * rand(nfaces(m1)),\n",
        "    nodesvisible=true, nodecolor=:hotpink, nodesize=12,\n",
        "    edgesvisible=true, edgecolor=:lightblue, edgelinewidth=3,\n",
        "    featureedgecolor=:red, featureedgelinewidth=6,\n",
        "    facecolormap=:bluesreds\n",
        ") |> mconf()"
      ],
      "id": "dfeaf279",
      "execution_count": null,
      "outputs": []
    },
    {
      "cell_type": "code",
      "metadata": {},
      "source": [
        "m2 = makemeshoninterval(0, 4, 20)\n",
        "mplot(m2, rand(nnodes(m2)),\n",
        "    lineplotoutlinesvisible=true,\n",
        "    edgecolor=:blue, edgelinewidth=10,\n",
        "    lineplotscale=0.3,\n",
        "    lineplotoutlinescolor=:hotpink,\n",
        "    lineplotoutlineslinewidth=2.0,\n",
        "    lineplotfacescolormap=:bluesreds\n",
        ") |> mconf(title=\"Test Plot\")"
      ],
      "id": "d1a5b2cd",
      "execution_count": null,
      "outputs": []
    },
    {
      "cell_type": "markdown",
      "metadata": {},
      "source": [
        "## Adaptive sampling\n"
      ],
      "id": "1906fd1a"
    },
    {
      "cell_type": "code",
      "metadata": {},
      "source": [
        "#| echo: false\n",
        "#| warning: false\n",
        "include(\"setup.jl\")\n",
        "using IntervalSets\n",
        "using LinearAlgebra\n",
        "import CairoMakie as cm\n",
        "import MMJMesh.Plots: approximationerror, sampleadaptive"
      ],
      "id": "680c1a89",
      "execution_count": null,
      "outputs": []
    },
    {
      "cell_type": "markdown",
      "metadata": {},
      "source": [
        "### Derivation of quadrature formulae\n"
      ],
      "id": "7b8a37ad"
    },
    {
      "cell_type": "code",
      "metadata": {},
      "source": [
        "X1 = 0:1/4:1\n",
        "L1 = lagrangepolynomials(X1, 0 .. 1)\n",
        "W1 = [integrate(L, 0 .. 1) for L in L1]\n",
        "\n",
        "X2 = [0, 0.253124, 0.4986745, 0.75834, 1]\n",
        "L2 = lagrangepolynomials(X2, 0 .. 1)\n",
        "W2 = [integrate(L, 0 .. 1) for L in L2]\n",
        "\n",
        "function nint(f, a, b)\n",
        "    w = b - a\n",
        "    y1 = f.(a .+ w * X1)\n",
        "    y2 = f.(a .+ w * X2)\n",
        "    w * dot(W1, y1), w * dot(W2, y2)\n",
        "end\n",
        "\n",
        "println(nint(x -> x, 0, 2))\n",
        "println(nint(sin, 0, pi))\n",
        "println(nint(sin, pi, 2pi))"
      ],
      "id": "ceb41322",
      "execution_count": null,
      "outputs": []
    },
    {
      "cell_type": "markdown",
      "metadata": {},
      "source": [
        "### Integral of squared distance between curve and straight line\n"
      ],
      "id": "e5457678"
    },
    {
      "cell_type": "code",
      "metadata": {},
      "source": [
        "#| code-fold: true\n",
        "\n",
        "function doplot(xy)\n",
        "    x, y = xy\n",
        "    f = cm.lines(x, y)\n",
        "    cm.scatter!(x, y, color=:darkred, markersize=5)\n",
        "    return f\n",
        "end\n",
        "\n",
        "function convergence(f, a, b, n)\n",
        "    h = 1\n",
        "    X = X2\n",
        "    W = W2\n",
        "    e = zeros(n)\n",
        "\n",
        "    for i in 1:n\n",
        "        w = b - a\n",
        "        x = a .+ w * X\n",
        "        y = f.(x)\n",
        "        e[i] = approximationerror(h, X, W, y)\n",
        "        b = (a + b) / 2\n",
        "        h /= 2\n",
        "    end\n",
        "\n",
        "    return e\n",
        "end"
      ],
      "id": "f4a59a7e",
      "execution_count": null,
      "outputs": []
    },
    {
      "cell_type": "code",
      "metadata": {},
      "source": [
        "n = 5\n",
        "(1:n, convergence(x -> 100x^3, -0.25, 1.5, n)) |> doplot"
      ],
      "id": "791a322f",
      "execution_count": null,
      "outputs": []
    },
    {
      "cell_type": "code",
      "metadata": {},
      "source": [
        "(1:n, convergence(sin, 0, pi, n)) |> doplot"
      ],
      "id": "7e920525",
      "execution_count": null,
      "outputs": []
    },
    {
      "cell_type": "code",
      "metadata": {},
      "source": [
        "(1:n, convergence(x -> 1 / x, -1, 1e-5, n)) |> doplot"
      ],
      "id": "53f66fc7",
      "execution_count": null,
      "outputs": []
    },
    {
      "cell_type": "code",
      "metadata": {},
      "source": [
        "n = 20\n",
        "(1:n, convergence(x -> sin(1 / x), 1e-5, 1e-1, n)) |> doplot"
      ],
      "id": "cb4c6226",
      "execution_count": null,
      "outputs": []
    },
    {
      "cell_type": "markdown",
      "metadata": {},
      "source": [
        "### Test cases\n"
      ],
      "id": "0715ab29"
    },
    {
      "cell_type": "code",
      "metadata": {},
      "source": [
        "sampleadaptive(x -> x^100, 0, 1) |> doplot"
      ],
      "id": "c79dd8e0",
      "execution_count": null,
      "outputs": []
    },
    {
      "cell_type": "code",
      "metadata": {},
      "source": [
        "sampleadaptive(x -> sin(1.0 / x), 0, 0.05, level=14) |> doplot"
      ],
      "id": "ce835371",
      "execution_count": null,
      "outputs": []
    },
    {
      "cell_type": "code",
      "metadata": {},
      "source": [
        "sampleadaptive(x -> 1 / x, -1, 1) |> doplot"
      ],
      "id": "2878969c",
      "execution_count": null,
      "outputs": []
    },
    {
      "cell_type": "code",
      "metadata": {},
      "source": [
        "sampleadaptive(x -> (-0.3 + x), -1, 1, ir=true) |> doplot"
      ],
      "id": "552db209",
      "execution_count": null,
      "outputs": []
    },
    {
      "cell_type": "code",
      "metadata": {},
      "source": [
        "sampleadaptive(x -> x^2, -1, 1) |> doplot"
      ],
      "id": "414ea648",
      "execution_count": null,
      "outputs": []
    }
  ],
  "metadata": {
    "kernelspec": {
      "name": "julia-1.9",
      "language": "julia",
      "display_name": "Julia 1.9.4"
    }
  },
  "nbformat": 4,
  "nbformat_minor": 5
}